{
 "cells": [
  {
   "cell_type": "markdown",
   "id": "bf58690e",
   "metadata": {},
   "source": [
    "### Import"
   ]
  },
  {
   "cell_type": "code",
   "execution_count": 23,
   "id": "ed3cc646",
   "metadata": {},
   "outputs": [],
   "source": [
    "import torch\n",
    "from Dataset.bank_dataset import BankTxnDataset, pad_collate_fn\n",
    "from Models.transformer import TransformerClassifier\n",
    "from Config.config import load_config\n",
    "from torch.utils.data import DataLoader\n",
    "import matplotlib.pyplot as plt\n",
    "import tqdm"
   ]
  },
  {
   "cell_type": "markdown",
   "id": "b14838fe",
   "metadata": {},
   "source": [
    "### Loading Config"
   ]
  },
  {
   "cell_type": "code",
   "execution_count": 24,
   "id": "78bd2a80",
   "metadata": {},
   "outputs": [
    {
     "name": "stdout",
     "output_type": "stream",
     "text": [
      "Current device: \u001b[92mcpu\u001b[0m\n"
     ]
    }
   ],
   "source": [
    "cfg = load_config()\n",
    "device = torch.device(\"cuda\" if torch.cuda.is_available() else \"cpu\")\n",
    "device = \"cpu\"\n",
    "print(f\"Current device: \\033[92m{device}\\033[0m\")"
   ]
  },
  {
   "cell_type": "markdown",
   "id": "4e59263d",
   "metadata": {},
   "source": [
    "### Loading Dataset"
   ]
  },
  {
   "cell_type": "code",
   "execution_count": 25,
   "id": "0de2c329",
   "metadata": {},
   "outputs": [
    {
     "name": "stdout",
     "output_type": "stream",
     "text": [
      "Total number of training data: \u001b[92m24969\u001b[0m\n"
     ]
    }
   ],
   "source": [
    "train_ds = BankTxnDataset(cfg, split=\"train\")\n",
    "print(f\"Total number of training data: \\033[92m{len(train_ds.data)}\\033[0m\")\n",
    "\n",
    "train_loader = DataLoader(\n",
    "\ttrain_ds,\n",
    "\tbatch_size=cfg.parameter['batchSize'],\n",
    "\tshuffle=True,\n",
    "\tnum_workers=4,\n",
    "\tpin_memory=True,                # speeds host→GPU copies\n",
    "\tcollate_fn=pad_collate_fn\n",
    ")\n",
    "\n",
    "\n"
   ]
  },
  {
   "cell_type": "code",
   "execution_count": 26,
   "id": "af3b753c",
   "metadata": {},
   "outputs": [
    {
     "name": "stdout",
     "output_type": "stream",
     "text": [
      "Input tensor shape: torch.Size([32, 53, 4937])\n",
      "Feature dimension from data: 4937\n"
     ]
    }
   ],
   "source": [
    "sample_batch = next(iter(train_loader))\n",
    "x_sample = sample_batch[0]\n",
    "print(f\"Input tensor shape: {x_sample.shape}\")\n",
    "actual_feat_dim = x_sample.shape[2]\n",
    "print(f\"Feature dimension from data: {actual_feat_dim}\")"
   ]
  },
  {
   "cell_type": "markdown",
   "id": "8d2c464d",
   "metadata": {},
   "source": [
    "### Loading Model & Optimizer"
   ]
  },
  {
   "cell_type": "code",
   "execution_count": 27,
   "id": "35b45a88",
   "metadata": {},
   "outputs": [
    {
     "name": "stderr",
     "output_type": "stream",
     "text": [
      "c:\\Users\\Sean\\anaconda3\\envs\\BankWatchList\\Lib\\site-packages\\torch\\nn\\modules\\transformer.py:382: UserWarning: enable_nested_tensor is True, but self.use_nested_tensor is False because encoder_layer.self_attn.batch_first was not True(use batch_first for better inference performance)\n",
      "  warnings.warn(\n",
      "C:\\Users\\Sean\\AppData\\Local\\Temp\\ipykernel_12032\\41187433.py:10: FutureWarning: `torch.cuda.amp.GradScaler(args...)` is deprecated. Please use `torch.amp.GradScaler('cuda', args...)` instead.\n",
      "  scaler    = torch.cuda.amp.GradScaler()  # optional mixed‑precision\n"
     ]
    }
   ],
   "source": [
    "model = TransformerClassifier(\n",
    "\tfeat_dim=actual_feat_dim,\n",
    "\td_model=cfg.parameter['d_model'],\n",
    "\tnhead=cfg.parameter['attention_head'],\n",
    "\tnum_layers=cfg.parameter['num_layers'],\n",
    "\tnum_classes=1\n",
    ").to(device)\n",
    "\n",
    "optimizer = torch.optim.Adam(model.parameters(), lr=cfg.parameter['learningRate'])\n",
    "scaler    = torch.cuda.amp.GradScaler()  # optional mixed‑precision"
   ]
  },
  {
   "cell_type": "markdown",
   "id": "8cff33aa",
   "metadata": {},
   "source": [
    "### Training"
   ]
  },
  {
   "cell_type": "code",
   "execution_count": 28,
   "id": "11f44a1a",
   "metadata": {},
   "outputs": [
    {
     "name": "stdout",
     "output_type": "stream",
     "text": [
      "Starting training for 256 epochs on cpu\n"
     ]
    },
    {
     "name": "stderr",
     "output_type": "stream",
     "text": [
      "Epoch 1/256:   0%|                                      | 0/781 [00:00<?, ?it/s]C:\\Users\\Sean\\AppData\\Local\\Temp\\ipykernel_12032\\2459476516.py:13: FutureWarning: `torch.cuda.amp.autocast(args...)` is deprecated. Please use `torch.amp.autocast('cuda', args...)` instead.\n",
      "  with torch.cuda.amp.autocast():\n",
      "Epoch 1/256:  17%|██▌            | 131/781 [00:44<03:41,  2.93it/s, loss=0.0326]\n"
     ]
    },
    {
     "ename": "KeyboardInterrupt",
     "evalue": "",
     "output_type": "error",
     "traceback": [
      "\u001b[31m---------------------------------------------------------------------------\u001b[39m",
      "\u001b[31mKeyboardInterrupt\u001b[39m                         Traceback (most recent call last)",
      "\u001b[36mCell\u001b[39m\u001b[36m \u001b[39m\u001b[32mIn[28]\u001b[39m\u001b[32m, line 23\u001b[39m\n\u001b[32m     14\u001b[39m     logits = model(\n\u001b[32m     15\u001b[39m         x,\n\u001b[32m     16\u001b[39m         src_key_padding_mask=(torch.arange(x.size(\u001b[32m1\u001b[39m), device=device)\n\u001b[32m     17\u001b[39m                               .unsqueeze(\u001b[32m0\u001b[39m)\n\u001b[32m     18\u001b[39m                               .ge(lengths.unsqueeze(\u001b[32m1\u001b[39m)))\n\u001b[32m     19\u001b[39m     )\n\u001b[32m     20\u001b[39m     loss = torch.nn.functional.binary_cross_entropy_with_logits(\n\u001b[32m     21\u001b[39m         logits.squeeze(), y\n\u001b[32m     22\u001b[39m     )\n\u001b[32m---> \u001b[39m\u001b[32m23\u001b[39m \u001b[43mscaler\u001b[49m\u001b[43m.\u001b[49m\u001b[43mscale\u001b[49m\u001b[43m(\u001b[49m\u001b[43mloss\u001b[49m\u001b[43m)\u001b[49m\u001b[43m.\u001b[49m\u001b[43mbackward\u001b[49m\u001b[43m(\u001b[49m\u001b[43m)\u001b[49m\n\u001b[32m     24\u001b[39m scaler.step(optimizer)\n\u001b[32m     25\u001b[39m scaler.update()\n",
      "\u001b[36mFile \u001b[39m\u001b[32mc:\\Users\\Sean\\anaconda3\\envs\\BankWatchList\\Lib\\site-packages\\torch\\_tensor.py:648\u001b[39m, in \u001b[36mTensor.backward\u001b[39m\u001b[34m(self, gradient, retain_graph, create_graph, inputs)\u001b[39m\n\u001b[32m    638\u001b[39m \u001b[38;5;28;01mif\u001b[39;00m has_torch_function_unary(\u001b[38;5;28mself\u001b[39m):\n\u001b[32m    639\u001b[39m     \u001b[38;5;28;01mreturn\u001b[39;00m handle_torch_function(\n\u001b[32m    640\u001b[39m         Tensor.backward,\n\u001b[32m    641\u001b[39m         (\u001b[38;5;28mself\u001b[39m,),\n\u001b[32m   (...)\u001b[39m\u001b[32m    646\u001b[39m         inputs=inputs,\n\u001b[32m    647\u001b[39m     )\n\u001b[32m--> \u001b[39m\u001b[32m648\u001b[39m \u001b[43mtorch\u001b[49m\u001b[43m.\u001b[49m\u001b[43mautograd\u001b[49m\u001b[43m.\u001b[49m\u001b[43mbackward\u001b[49m\u001b[43m(\u001b[49m\n\u001b[32m    649\u001b[39m \u001b[43m    \u001b[49m\u001b[38;5;28;43mself\u001b[39;49m\u001b[43m,\u001b[49m\u001b[43m \u001b[49m\u001b[43mgradient\u001b[49m\u001b[43m,\u001b[49m\u001b[43m \u001b[49m\u001b[43mretain_graph\u001b[49m\u001b[43m,\u001b[49m\u001b[43m \u001b[49m\u001b[43mcreate_graph\u001b[49m\u001b[43m,\u001b[49m\u001b[43m \u001b[49m\u001b[43minputs\u001b[49m\u001b[43m=\u001b[49m\u001b[43minputs\u001b[49m\n\u001b[32m    650\u001b[39m \u001b[43m\u001b[49m\u001b[43m)\u001b[49m\n",
      "\u001b[36mFile \u001b[39m\u001b[32mc:\\Users\\Sean\\anaconda3\\envs\\BankWatchList\\Lib\\site-packages\\torch\\autograd\\__init__.py:346\u001b[39m, in \u001b[36mbackward\u001b[39m\u001b[34m(tensors, grad_tensors, retain_graph, create_graph, grad_variables, inputs)\u001b[39m\n\u001b[32m    337\u001b[39m inputs = (\n\u001b[32m    338\u001b[39m     (inputs,)\n\u001b[32m    339\u001b[39m     \u001b[38;5;28;01mif\u001b[39;00m \u001b[38;5;28misinstance\u001b[39m(inputs, (torch.Tensor, graph.GradientEdge))\n\u001b[32m   (...)\u001b[39m\u001b[32m    342\u001b[39m     \u001b[38;5;28;01melse\u001b[39;00m ()\n\u001b[32m    343\u001b[39m )\n\u001b[32m    345\u001b[39m grad_tensors_ = _tensor_or_tensors_to_tuple(grad_tensors, \u001b[38;5;28mlen\u001b[39m(tensors))\n\u001b[32m--> \u001b[39m\u001b[32m346\u001b[39m grad_tensors_ = \u001b[43m_make_grads\u001b[49m\u001b[43m(\u001b[49m\u001b[43mtensors\u001b[49m\u001b[43m,\u001b[49m\u001b[43m \u001b[49m\u001b[43mgrad_tensors_\u001b[49m\u001b[43m,\u001b[49m\u001b[43m \u001b[49m\u001b[43mis_grads_batched\u001b[49m\u001b[43m=\u001b[49m\u001b[38;5;28;43;01mFalse\u001b[39;49;00m\u001b[43m)\u001b[49m\n\u001b[32m    347\u001b[39m \u001b[38;5;28;01mif\u001b[39;00m retain_graph \u001b[38;5;129;01mis\u001b[39;00m \u001b[38;5;28;01mNone\u001b[39;00m:\n\u001b[32m    348\u001b[39m     retain_graph = create_graph\n",
      "\u001b[36mFile \u001b[39m\u001b[32mc:\\Users\\Sean\\anaconda3\\envs\\BankWatchList\\Lib\\site-packages\\torch\\autograd\\__init__.py:221\u001b[39m, in \u001b[36m_make_grads\u001b[39m\u001b[34m(outputs, grads, is_grads_batched)\u001b[39m\n\u001b[32m    218\u001b[39m     \u001b[38;5;28;01melse\u001b[39;00m:\n\u001b[32m    219\u001b[39m         \u001b[38;5;28;01massert\u001b[39;00m \u001b[38;5;28misinstance\u001b[39m(out, torch.Tensor)\n\u001b[32m    220\u001b[39m         new_grads.append(\n\u001b[32m--> \u001b[39m\u001b[32m221\u001b[39m             \u001b[43mtorch\u001b[49m\u001b[43m.\u001b[49m\u001b[43mones_like\u001b[49m\u001b[43m(\u001b[49m\u001b[43mout\u001b[49m\u001b[43m,\u001b[49m\u001b[43m \u001b[49m\u001b[43mmemory_format\u001b[49m\u001b[43m=\u001b[49m\u001b[43mtorch\u001b[49m\u001b[43m.\u001b[49m\u001b[43mpreserve_format\u001b[49m\u001b[43m)\u001b[49m\n\u001b[32m    222\u001b[39m         )\n\u001b[32m    223\u001b[39m \u001b[38;5;28;01melse\u001b[39;00m:\n\u001b[32m    224\u001b[39m     new_grads.append(\u001b[38;5;28;01mNone\u001b[39;00m)\n",
      "\u001b[31mKeyboardInterrupt\u001b[39m: "
     ]
    }
   ],
   "source": [
    "epochs = cfg.parameter['epochs']\n",
    "print(f\"Starting training for {epochs} epochs on {device}\")\n",
    "model.train()\n",
    "# Create list to store average loss per epoch\n",
    "avg_losses = []\n",
    "\n",
    "for epoch in range(1, epochs+1):\n",
    "        epoch_loss = 0.0\n",
    "        pbar = tqdm.tqdm(train_loader, desc=f\"Epoch {epoch}/{epochs}\", ncols=80)\n",
    "        for x, lengths, y in pbar:\n",
    "            x, lengths, y = x.to(device), lengths.to(device), y.to(device)\n",
    "            optimizer.zero_grad()\n",
    "            with torch.cuda.amp.autocast():\n",
    "                logits = model(\n",
    "                    x,\n",
    "                    src_key_padding_mask=(torch.arange(x.size(1), device=device)\n",
    "                                          .unsqueeze(0)\n",
    "                                          .ge(lengths.unsqueeze(1)))\n",
    "                )\n",
    "                loss = torch.nn.functional.binary_cross_entropy_with_logits(\n",
    "                    logits.squeeze(), y\n",
    "                )\n",
    "            scaler.scale(loss).backward()\n",
    "            scaler.step(optimizer)\n",
    "            scaler.update()\n",
    "\n",
    "            batch_loss = loss.item()\n",
    "            epoch_loss += batch_loss\n",
    "            # update tqdm bar\n",
    "            pbar.set_postfix(loss=f\"{batch_loss:.4f}\")\n",
    "\n",
    "        avg_loss = epoch_loss / len(train_loader)\n",
    "        avg_losses.append(avg_loss)  # Store the average loss\n",
    "        print(f\"Epoch {epoch} completed — avg loss: {avg_loss:.4f}\")\n",
    "\n",
    "# After training, plot the loss curve\n",
    "plt.figure(figsize=(10, 5))\n",
    "plt.plot(range(1, epochs+1), avg_losses, marker='o', linestyle='-', color='b')\n",
    "plt.title('Training Loss Over Epochs')\n",
    "plt.xlabel('Epoch')\n",
    "plt.ylabel('Average Loss')\n",
    "plt.grid(True, linestyle='--', alpha=0.7)\n",
    "plt.xticks(range(1, epochs+1))\n",
    "\n",
    "# Add loss values as text annotations on the plot\n",
    "for i, loss in enumerate(avg_losses):\n",
    "    plt.text(i+1, loss, f'{loss:.4f}', ha='center', va='bottom')\n",
    "\n",
    "plt.tight_layout()\n",
    "plt.show()"
   ]
  }
 ],
 "metadata": {
  "kernelspec": {
   "display_name": "BankWatchList",
   "language": "python",
   "name": "python3"
  },
  "language_info": {
   "codemirror_mode": {
    "name": "ipython",
    "version": 3
   },
   "file_extension": ".py",
   "mimetype": "text/x-python",
   "name": "python",
   "nbconvert_exporter": "python",
   "pygments_lexer": "ipython3",
   "version": "3.12.9"
  }
 },
 "nbformat": 4,
 "nbformat_minor": 5
}
